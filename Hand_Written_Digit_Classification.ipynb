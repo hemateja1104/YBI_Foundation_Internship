{
 "cells": [
  {
   "cell_type": "code",
   "execution_count": 1,
   "id": "1588c384",
   "metadata": {},
   "outputs": [],
   "source": [
    "import pandas as pd"
   ]
  },
  {
   "cell_type": "code",
   "execution_count": 2,
   "id": "32aedbb2",
   "metadata": {},
   "outputs": [],
   "source": [
    "import numpy as np"
   ]
  },
  {
   "cell_type": "code",
   "execution_count": 3,
   "id": "eb0103ef",
   "metadata": {},
   "outputs": [],
   "source": [
    "import matplotlib.pyplot as plt"
   ]
  },
  {
   "cell_type": "code",
   "execution_count": 4,
   "id": "70f9a17b",
   "metadata": {},
   "outputs": [],
   "source": [
    "from sklearn.datasets import load_digits"
   ]
  },
  {
   "cell_type": "code",
   "execution_count": 5,
   "id": "1a422b55",
   "metadata": {},
   "outputs": [],
   "source": [
    "df = load_digits()"
   ]
  },
  {
   "cell_type": "code",
   "execution_count": 6,
   "id": "18f774eb",
   "metadata": {},
   "outputs": [
    {
     "data": {
      "image/png": "[encoded data removed]",
      "text/plain": [
       "<Figure size 1000x300 with 4 Axes>"
      ]
     },
     "metadata": {},
     "output_type": "display_data"
    }
   ],
   "source": [
    "_, axes = plt.subplots(nrows=1, ncols=4, figsize=(10, 3))\n",
    "for ax, image, label in zip(axes, df.images, df.target):\n",
    "    ax.set_axis_off()\n",
    "    ax.imshow(image, cmap=plt.cm.gray_r, interpolation=\"nearest\")\n",
    "    ax.set_title(\"Training: %i\" % label)"
   ]
  },
  {
   "cell_type": "code",
   "execution_count": 7,
   "id": "1626b9a9",
   "metadata": {},
   "outputs": [
    {
     "data": {
      "text/plain": [
       "(1797, 8, 8)"
      ]
     },
     "execution_count": 7,
     "metadata": {},
     "output_type": "execute_result"
    }
   ],
   "source": [
    "df.images.shape"
   ]
  },
  {
   "cell_type": "code",
   "execution_count": 8,
   "id": "f82dd2db",
   "metadata": {},
   "outputs": [
    {
     "data": {
      "text/plain": [
       "array([[ 0.,  0.,  5., 13.,  9.,  1.,  0.,  0.],\n",
       "       [ 0.,  0., 13., 15., 10., 15.,  5.,  0.],\n",
       "       [ 0.,  3., 15.,  2.,  0., 11.,  8.,  0.],\n",
       "       [ 0.,  4., 12.,  0.,  0.,  8.,  8.,  0.],\n",
       "       [ 0.,  5.,  8.,  0.,  0.,  9.,  8.,  0.],\n",
       "       [ 0.,  4., 11.,  0.,  1., 12.,  7.,  0.],\n",
       "       [ 0.,  2., 14.,  5., 10., 12.,  0.,  0.],\n",
       "       [ 0.,  0.,  6., 13., 10.,  0.,  0.,  0.]])"
      ]
     },
     "execution_count": 8,
     "metadata": {},
     "output_type": "execute_result"
    }
   ],
   "source": [
    "df.images[0]"
   ]
  },
  {
   "cell_type": "code",
   "execution_count": 9,
   "id": "dae746e9",
   "metadata": {},
   "outputs": [
    {
     "data": {
      "text/plain": [
       "(8, 8)"
      ]
     },
     "execution_count": 9,
     "metadata": {},
     "output_type": "execute_result"
    }
   ],
   "source": [
    "df.images[0].shape"
   ]
  },
  {
   "cell_type": "code",
   "execution_count": 10,
   "id": "2fcc06cc",
   "metadata": {},
   "outputs": [
    {
     "data": {
      "text/plain": [
       "1797"
      ]
     },
     "execution_count": 10,
     "metadata": {},
     "output_type": "execute_result"
    }
   ],
   "source": [
    "len(df.images)"
   ]
  },
  {
   "cell_type": "code",
   "execution_count": 11,
   "id": "cc5a090d",
   "metadata": {},
   "outputs": [],
   "source": [
    "n_samples = len(df.images)\n",
    "data = df.images.reshape((n_samples, -1))"
   ]
  },
  {
   "cell_type": "code",
   "execution_count": 12,
   "id": "127e4205",
   "metadata": {},
   "outputs": [
    {
     "data": {
      "text/plain": [
       "array([ 0.,  0.,  5., 13.,  9.,  1.,  0.,  0.,  0.,  0., 13., 15., 10.,\n",
       "       15.,  5.,  0.,  0.,  3., 15.,  2.,  0., 11.,  8.,  0.,  0.,  4.,\n",
       "       12.,  0.,  0.,  8.,  8.,  0.,  0.,  5.,  8.,  0.,  0.,  9.,  8.,\n",
       "        0.,  0.,  4., 11.,  0.,  1., 12.,  7.,  0.,  0.,  2., 14.,  5.,\n",
       "       10., 12.,  0.,  0.,  0.,  0.,  6., 13., 10.,  0.,  0.,  0.])"
      ]
     },
     "execution_count": 12,
     "metadata": {},
     "output_type": "execute_result"
    }
   ],
   "source": [
    "data[0]"
   ]
  },
  {
   "cell_type": "code",
   "execution_count": 13,
   "id": "569d7040",
   "metadata": {},
   "outputs": [
    {
     "data": {
      "text/plain": [
       "(64,)"
      ]
     },
     "execution_count": 13,
     "metadata": {},
     "output_type": "execute_result"
    }
   ],
   "source": [
    "data[0].shape"
   ]
  },
  {
   "cell_type": "code",
   "execution_count": 14,
   "id": "38cdd601",
   "metadata": {},
   "outputs": [
    {
     "data": {
      "text/plain": [
       "(1797, 64)"
      ]
     },
     "execution_count": 14,
     "metadata": {},
     "output_type": "execute_result"
    }
   ],
   "source": [
    "data.shape"
   ]
  },
  {
   "cell_type": "code",
   "execution_count": 15,
   "id": "c7dc0fdc",
   "metadata": {},
   "outputs": [
    {
     "data": {
      "text/plain": [
       "0.0"
      ]
     },
     "execution_count": 15,
     "metadata": {},
     "output_type": "execute_result"
    }
   ],
   "source": [
    "data.min()"
   ]
  },
  {
   "cell_type": "code",
   "execution_count": 16,
   "id": "8b422590",
   "metadata": {},
   "outputs": [
    {
     "data": {
      "text/plain": [
       "16.0"
      ]
     },
     "execution_count": 16,
     "metadata": {},
     "output_type": "execute_result"
    }
   ],
   "source": [
    "data.max()"
   ]
  },
  {
   "cell_type": "code",
   "execution_count": 17,
   "id": "f371b528",
   "metadata": {},
   "outputs": [],
   "source": [
    "data = data/16"
   ]
  },
  {
   "cell_type": "code",
   "execution_count": 18,
   "id": "826200c4",
   "metadata": {},
   "outputs": [
    {
     "data": {
      "text/plain": [
       "0.0"
      ]
     },
     "execution_count": 18,
     "metadata": {},
     "output_type": "execute_result"
    }
   ],
   "source": [
    "data.min()"
   ]
  },
  {
   "cell_type": "code",
   "execution_count": 19,
   "id": "fe2c15dd",
   "metadata": {},
   "outputs": [
    {
     "data": {
      "text/plain": [
       "1.0"
      ]
     },
     "execution_count": 19,
     "metadata": {},
     "output_type": "execute_result"
    }
   ],
   "source": [
    "data.max()"
   ]
  },
  {
   "cell_type": "code",
   "execution_count": 20,
   "id": "75a59e36",
   "metadata": {},
   "outputs": [
    {
     "data": {
      "text/plain": [
       "array([0.    , 0.    , 0.3125, 0.8125, 0.5625, 0.0625, 0.    , 0.    ,\n",
       "       0.    , 0.    , 0.8125, 0.9375, 0.625 , 0.9375, 0.3125, 0.    ,\n",
       "       0.    , 0.1875, 0.9375, 0.125 , 0.    , 0.6875, 0.5   , 0.    ,\n",
       "       0.    , 0.25  , 0.75  , 0.    , 0.    , 0.5   , 0.5   , 0.    ,\n",
       "       0.    , 0.3125, 0.5   , 0.    , 0.    , 0.5625, 0.5   , 0.    ,\n",
       "       0.    , 0.25  , 0.6875, 0.    , 0.0625, 0.75  , 0.4375, 0.    ,\n",
       "       0.    , 0.125 , 0.875 , 0.3125, 0.625 , 0.75  , 0.    , 0.    ,\n",
       "       0.    , 0.    , 0.375 , 0.8125, 0.625 , 0.    , 0.    , 0.    ])"
      ]
     },
     "execution_count": 20,
     "metadata": {},
     "output_type": "execute_result"
    }
   ],
   "source": [
    "data[0]"
   ]
  },
  {
   "cell_type": "code",
   "execution_count": 21,
   "id": "b69c1073",
   "metadata": {},
   "outputs": [],
   "source": [
    "from sklearn.model_selection import train_test_split"
   ]
  },
  {
   "cell_type": "code",
   "execution_count": 22,
   "id": "277852bc",
   "metadata": {},
   "outputs": [],
   "source": [
    "X_train, X_test, y_train, y_test = train_test_split(data, df.target, test_size=0.3)"
   ]
  },
  {
   "cell_type": "code",
   "execution_count": 23,
   "id": "f501548d",
   "metadata": {},
   "outputs": [
    {
     "data": {
      "text/plain": [
       "((1257, 64), (540, 64), (1257,), (540,))"
      ]
     },
     "execution_count": 23,
     "metadata": {},
     "output_type": "execute_result"
    }
   ],
   "source": [
    "X_train.shape, X_test.shape, y_train.shape, y_test.shape"
   ]
  },
  {
   "cell_type": "code",
   "execution_count": 24,
   "id": "87dac2f8",
   "metadata": {},
   "outputs": [],
   "source": [
    "from sklearn.ensemble import RandomForestClassifier"
   ]
  },
  {
   "cell_type": "code",
   "execution_count": 25,
   "id": "e4ebbdb6",
   "metadata": {},
   "outputs": [],
   "source": [
    "rf = RandomForestClassifier()"
   ]
  },
  {
   "cell_type": "code",
   "execution_count": 26,
   "id": "5f2230c0",
   "metadata": {},
   "outputs": [
    {
     "data": {
      "text/plain": [
       "RandomForestClassifier()"
      ]
     },
     "execution_count": 26,
     "metadata": {},
     "output_type": "execute_result"
    }
   ],
   "source": [
    "rf.fit(X_train, y_train)"
   ]
  },
  {
   "cell_type": "code",
   "execution_count": 27,
   "id": "670d428a",
   "metadata": {},
   "outputs": [],
   "source": [
    "y_pred = rf.predict(X_test)"
   ]
  },
  {
   "cell_type": "code",
   "execution_count": 28,
   "id": "69570bcb",
   "metadata": {},
   "outputs": [
    {
     "data": {
      "text/plain": [
       "array([7, 7, 6, 8, 3, 9, 6, 3, 2, 8, 5, 5, 4, 5, 1, 6, 6, 9, 3, 5, 8, 8,\n",
       "       8, 4, 3, 4, 7, 8, 1, 9, 2, 9, 1, 5, 6, 3, 5, 8, 0, 9, 9, 9, 7, 8,\n",
       "       9, 2, 7, 7, 1, 3, 8, 7, 6, 3, 3, 7, 5, 1, 9, 8, 8, 1, 1, 2, 3, 0,\n",
       "       4, 2, 5, 9, 7, 5, 4, 2, 7, 7, 6, 5, 8, 2, 7, 3, 8, 3, 3, 9, 9, 7,\n",
       "       0, 9, 6, 0, 6, 0, 5, 8, 8, 5, 9, 1, 1, 6, 1, 8, 6, 1, 2, 5, 7, 0,\n",
       "       2, 2, 7, 2, 8, 0, 8, 4, 6, 5, 4, 8, 0, 3, 1, 9, 2, 6, 7, 4, 9, 3,\n",
       "       0, 1, 2, 2, 6, 7, 8, 4, 7, 3, 4, 5, 0, 7, 7, 4, 2, 5, 2, 9, 1, 3,\n",
       "       3, 1, 9, 0, 5, 6, 1, 1, 4, 4, 2, 1, 3, 9, 5, 6, 5, 4, 3, 1, 3, 0,\n",
       "       5, 7, 6, 0, 8, 0, 6, 0, 4, 3, 5, 7, 4, 8, 5, 4, 5, 4, 6, 8, 2, 4,\n",
       "       9, 0, 3, 5, 6, 8, 9, 4, 0, 4, 6, 7, 1, 1, 3, 7, 0, 9, 7, 2, 7, 1,\n",
       "       3, 1, 1, 1, 2, 1, 0, 5, 1, 5, 3, 0, 2, 3, 0, 5, 8, 7, 4, 9, 1, 3,\n",
       "       1, 2, 8, 7, 9, 0, 4, 2, 1, 7, 3, 6, 8, 3, 1, 4, 3, 8, 8, 4, 4, 8,\n",
       "       5, 2, 0, 2, 7, 6, 6, 9, 0, 1, 3, 2, 5, 7, 9, 6, 9, 9, 7, 3, 6, 6,\n",
       "       6, 9, 7, 4, 9, 9, 3, 5, 7, 3, 7, 5, 3, 7, 3, 1, 8, 0, 1, 2, 1, 3,\n",
       "       6, 7, 4, 6, 7, 4, 1, 6, 9, 8, 7, 0, 8, 7, 8, 9, 2, 9, 8, 7, 1, 1,\n",
       "       5, 9, 1, 5, 7, 7, 3, 0, 8, 8, 5, 5, 0, 1, 7, 8, 4, 2, 3, 2, 6, 7,\n",
       "       7, 4, 1, 3, 8, 6, 6, 2, 5, 0, 3, 5, 3, 5, 1, 0, 8, 1, 2, 1, 5, 3,\n",
       "       0, 8, 9, 2, 7, 2, 9, 2, 3, 9, 5, 8, 6, 4, 6, 5, 2, 1, 7, 5, 8, 7,\n",
       "       8, 1, 2, 2, 7, 0, 5, 6, 3, 8, 7, 4, 6, 9, 2, 8, 5, 4, 5, 8, 7, 9,\n",
       "       1, 1, 0, 3, 5, 9, 2, 0, 6, 2, 0, 6, 0, 0, 7, 0, 1, 3, 5, 8, 6, 5,\n",
       "       5, 6, 1, 2, 8, 6, 2, 3, 3, 5, 3, 4, 7, 9, 3, 8, 6, 6, 2, 6, 6, 4,\n",
       "       6, 4, 1, 8, 2, 5, 5, 3, 5, 1, 8, 1, 6, 5, 9, 4, 9, 2, 4, 0, 3, 8,\n",
       "       4, 9, 2, 8, 9, 9, 3, 0, 1, 1, 6, 4, 8, 9, 7, 6, 5, 8, 6, 4, 5, 2,\n",
       "       4, 2, 3, 9, 8, 0, 6, 2, 9, 0, 0, 2, 6, 0, 2, 3, 7, 1, 7, 9, 5, 3,\n",
       "       0, 3, 6, 1, 1, 0, 4, 0, 2, 4, 3, 7])"
      ]
     },
     "execution_count": 28,
     "metadata": {},
     "output_type": "execute_result"
    }
   ],
   "source": [
    "y_pred"
   ]
  },
  {
   "cell_type": "code",
   "execution_count": 29,
   "id": "090bc112",
   "metadata": {},
   "outputs": [],
   "source": [
    "from sklearn.metrics import confusion_matrix, classification_report"
   ]
  },
  {
   "cell_type": "code",
   "execution_count": 30,
   "id": "e9324135",
   "metadata": {},
   "outputs": [
    {
     "data": {
      "text/plain": [
       "array([[47,  0,  0,  0,  1,  0,  0,  0,  0,  0],\n",
       "       [ 0, 57,  0,  0,  0,  0,  0,  0,  0,  0],\n",
       "       [ 0,  0, 52,  0,  0,  0,  0,  0,  0,  0],\n",
       "       [ 0,  0,  0, 59,  0,  1,  0,  0,  0,  0],\n",
       "       [ 0,  0,  0,  0, 44,  0,  0,  4,  0,  0],\n",
       "       [ 0,  0,  0,  0,  0, 55,  1,  0,  0,  1],\n",
       "       [ 0,  0,  0,  0,  0,  0, 54,  0,  0,  0],\n",
       "       [ 0,  0,  0,  0,  0,  0,  0, 51,  0,  0],\n",
       "       [ 0,  1,  1,  0,  0,  1,  0,  0, 57,  0],\n",
       "       [ 0,  0,  0,  0,  0,  0,  0,  3,  0, 50]], dtype=int64)"
      ]
     },
     "execution_count": 30,
     "metadata": {},
     "output_type": "execute_result"
    }
   ],
   "source": [
    "confusion_matrix(y_test, y_pred)"
   ]
  },
  {
   "cell_type": "code",
   "execution_count": 31,
   "id": "52cbd6d7",
   "metadata": {},
   "outputs": [
    {
     "name": "stdout",
     "output_type": "stream",
     "text": [
      "              precision    recall  f1-score   support\n",
      "\n",
      "           0       1.00      0.98      0.99        48\n",
      "           1       0.98      1.00      0.99        57\n",
      "           2       0.98      1.00      0.99        52\n",
      "           3       1.00      0.98      0.99        60\n",
      "           4       0.98      0.92      0.95        48\n",
      "           5       0.96      0.96      0.96        57\n",
      "           6       0.98      1.00      0.99        54\n",
      "           7       0.88      1.00      0.94        51\n",
      "           8       1.00      0.95      0.97        60\n",
      "           9       0.98      0.94      0.96        53\n",
      "\n",
      "    accuracy                           0.97       540\n",
      "   macro avg       0.97      0.97      0.97       540\n",
      "weighted avg       0.98      0.97      0.97       540\n",
      "\n"
     ]
    }
   ],
   "source": [
    "print(classification_report(y_test, y_pred))"
   ]
  },
  {
   "cell_type": "code",
   "execution_count": null,
   "id": "df113da5",
   "metadata": {},
   "outputs": [],
   "source": []
  }
 ],
 "metadata": {
  "kernelspec": {
   "display_name": "Python 3 (ipykernel)",
   "language": "python",
   "name": "python3"
  },
  "language_info": {
   "codemirror_mode": {
    "name": "ipython",
    "version": 3
   },
   "file_extension": ".py",
   "mimetype": "text/x-python",
   "name": "python",
   "nbconvert_exporter": "python",
   "pygments_lexer": "ipython3",
   "version": "3.9.13"
  }
 },
 "nbformat": 4,
 "nbformat_minor": 5
}
